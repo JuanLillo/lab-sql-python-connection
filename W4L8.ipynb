{
 "cells": [
  {
   "cell_type": "code",
   "execution_count": 2,
   "id": "9d80f4f2-02c3-4eb3-9a16-365557435a71",
   "metadata": {},
   "outputs": [
    {
     "name": "stdout",
     "output_type": "stream",
     "text": [
      "Requirement already satisfied: mysql-connector-python in /opt/anaconda3/lib/python3.12/site-packages (9.1.0)\n",
      "Note: you may need to restart the kernel to use updated packages.\n"
     ]
    }
   ],
   "source": [
    "pip install mysql-connector-python"
   ]
  },
  {
   "cell_type": "code",
   "execution_count": 3,
   "id": "37af4a37-88ae-487c-811f-575b2e92d88d",
   "metadata": {},
   "outputs": [
    {
     "name": "stdout",
     "output_type": "stream",
     "text": [
      "Error: 1045 (28000): Access denied for user 'your_username'@'localhost' (using password: YES)\n"
     ]
    }
   ],
   "source": [
    "import mysql.connector\n",
    "\n",
    "def connect_to_database():\n",
    "    try:\n",
    "        connection = mysql.connector.connect(\n",
    "            host='localhost',         # Replace with your database host\n",
    "            user='your_username',     # Replace with your MySQL username\n",
    "            password='your_password', # Replace with your MySQL password\n",
    "            database='sakila'         # Name of the database\n",
    "        )\n",
    "        if connection.is_connected():\n",
    "            print(\"Connected to the Sakila database\")\n",
    "            return connection\n",
    "\n",
    "    except mysql.connector.Error as err:\n",
    "        print(f\"Error: {err}\")\n",
    "        return None\n",
    "\n",
    "conn = connect_to_database()\n",
    "\n",
    "if conn:\n",
    "    cursor = conn.cursor()\n",
    "    cursor.execute(\"SELECT NOW();\")\n",
    "    result = cursor.fetchone()\n",
    "    print(\"Database server time:\", result[0])\n",
    "    cursor.close()\n",
    "    conn.close()"
   ]
  },
  {
   "cell_type": "code",
   "execution_count": 4,
   "id": "d5e0725e-96eb-460a-a0a5-a6c7f6f41f6b",
   "metadata": {},
   "outputs": [],
   "source": [
    "import pandas as pd\n",
    "from sqlalchemy import create_engine\n",
    "from datetime import datetime\n",
    "\n",
    "def rentals_month(engine, month, year):\n",
    "    # Prepare the connection and query\n",
    "    connection = engine.connect()\n",
    "    query = f\"\"\"\n",
    "    SELECT * FROM rental \n",
    "    WHERE MONTH(rental_date) = {month} AND YEAR(rental_date) = {year};\n",
    "    \"\"\"\n",
    "    df = pd.read_sql(query, connection)\n",
    "    connection.close()\n",
    "    return df"
   ]
  },
  {
   "cell_type": "code",
   "execution_count": 5,
   "id": "19b45425-0b44-4e46-909d-9ceef50226c1",
   "metadata": {},
   "outputs": [],
   "source": [
    "def rental_count_month(rentals_df, month, year):\n",
    "    rental_counts = rentals_df.groupby('customer_id').size().reset_index(name=f'rentals_{month:02}_{year}')\n",
    "    return rental_counts"
   ]
  },
  {
   "cell_type": "code",
   "execution_count": 6,
   "id": "02d34c85-88ae-46fd-ab22-f66d68f70d34",
   "metadata": {},
   "outputs": [],
   "source": [
    "def compare_rentals(df1, df2):\n",
    "    # Merge two DataFrames on the customer_id ignoring missing values for merging\n",
    "    combined = pd.merge(df1, df2, on='customer_id', how='outer').fillna(0)\n",
    "    \n",
    "\n",
    "    combined['difference'] = combined.iloc[:, 1] - combined.iloc[:, 2]\n",
    "    return combined"
   ]
  },
  {
   "cell_type": "code",
   "execution_count": null,
   "id": "a67673f4-1cdb-48dd-b854-6921a2fcae59",
   "metadata": {},
   "outputs": [],
   "source": []
  },
  {
   "cell_type": "code",
   "execution_count": null,
   "id": "c211a89e-d427-4efa-9185-02f952b9ebf0",
   "metadata": {},
   "outputs": [],
   "source": []
  }
 ],
 "metadata": {
  "kernelspec": {
   "display_name": "Python 3 (ipykernel)",
   "language": "python",
   "name": "python3"
  },
  "language_info": {
   "codemirror_mode": {
    "name": "ipython",
    "version": 3
   },
   "file_extension": ".py",
   "mimetype": "text/x-python",
   "name": "python",
   "nbconvert_exporter": "python",
   "pygments_lexer": "ipython3",
   "version": "3.12.7"
  }
 },
 "nbformat": 4,
 "nbformat_minor": 5
}
